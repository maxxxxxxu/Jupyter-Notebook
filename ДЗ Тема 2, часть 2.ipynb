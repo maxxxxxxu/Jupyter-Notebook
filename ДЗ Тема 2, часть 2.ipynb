{
 "cells": [
  {
   "cell_type": "markdown",
   "id": "1bd61452-a374-431b-be7f-4b91195e5e67",
   "metadata": {},
   "source": [
    "<b><h1>Задание 1</h1></b>"
   ]
  },
  {
   "cell_type": "code",
   "execution_count": 1,
   "id": "d43a006d-ca99-4360-8348-69dbffcc6639",
   "metadata": {},
   "outputs": [
    {
     "name": "stdout",
     "output_type": "stream",
     "text": [
      "{98, 35, 15, 213, 54, 119}\n"
     ]
    }
   ],
   "source": [
    "ids = {'user1': [213, 213, 213, 15, 213],\n",
    "'user2': [54, 54, 119, 119, 119],\n",
    "'user3': [213, 98, 98, 35]}\n",
    "\n",
    "geo = set()\n",
    "\n",
    "for key, item in ids.items():\n",
    "    geo.update(item)\n",
    "\n",
    "print(geo)"
   ]
  },
  {
   "cell_type": "markdown",
   "id": "32c52eb0",
   "metadata": {},
   "source": [
    "Ожидаемый результат: {98, 35, 15, 213, 54, 119}"
   ]
  },
  {
   "cell_type": "markdown",
   "id": "ce811e30-081a-4514-9172-e7d1e95372fa",
   "metadata": {},
   "source": [
    "<b><h1>Задание 2</h1></b>"
   ]
  },
  {
   "cell_type": "code",
   "execution_count": 2,
   "id": "497d00a7-67c4-4bb2-a0ff-80a1b7ae59a8",
   "metadata": {},
   "outputs": [
    {
     "name": "stdout",
     "output_type": "stream",
     "text": [
      "Поисковых запросов, содержащих 2 слов(а): 42.86%\n",
      "Поисковых запросов, содержащих 3 слов(а): 57.14%\n"
     ]
    }
   ],
   "source": [
    "queries = [\n",
    "'смотреть сериалы онлайн',\n",
    "'новости спорта',\n",
    "'афиша кино',\n",
    "'курс доллара',\n",
    "'сериалы этим летом',\n",
    "'курс по питону',\n",
    "'сериалы про спорт',\n",
    "]\n",
    "\n",
    "num_queries = len(queries)\n",
    "two_words = 0\n",
    "three_words = 0\n",
    "\n",
    "for item in queries:\n",
    "    num_query_words = len(item.split(' '))\n",
    "    if num_query_words == 2:\n",
    "        two_words += 1\n",
    "    elif num_query_words == 3:\n",
    "        three_words += 1\n",
    "\n",
    "print('Поисковых запросов, содержащих 2 слов(а): ' + str(round(two_words/num_queries*100, 2)) + '%')\n",
    "print('Поисковых запросов, содержащих 3 слов(а): ' + str(round(three_words/num_queries*100, 2)) + '%')\n",
    "\n",
    "        "
   ]
  },
  {
   "cell_type": "markdown",
   "id": "fe0ca0da",
   "metadata": {},
   "source": [
    "Ожидаемый результат:\n",
    "Поисковых запросов, содержащих 2 слов(а): 42.86%\n",
    "Поисковых запросов, содержащих 3 слов(а): 57.14%"
   ]
  }
 ],
 "metadata": {
  "kernelspec": {
   "display_name": "Python 3",
   "language": "python",
   "name": "python3"
  },
  "language_info": {
   "codemirror_mode": {
    "name": "ipython",
    "version": 3
   },
   "file_extension": ".py",
   "mimetype": "text/x-python",
   "name": "python",
   "nbconvert_exporter": "python",
   "pygments_lexer": "ipython3",
   "version": "3.9.6"
  }
 },
 "nbformat": 4,
 "nbformat_minor": 5
}
