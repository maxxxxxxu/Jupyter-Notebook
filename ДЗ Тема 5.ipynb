{
 "cells": [
  {
   "cell_type": "markdown",
   "id": "1bd61452-a374-431b-be7f-4b91195e5e67",
   "metadata": {},
   "source": [
    "<b><h1>Задание 1</h1></b>\n",
    "\n",
    "Печатные газеты использовали свой формат дат для каждого выпуска. Для каждой газеты из списка напишите формат указанной даты для перевода в объект datetime:<br><br>\n",
    "The Moscow Times - Wednesday, October 2, 2002<br>\n",
    "The Guardian - Friday, 11.10.13<br>\n",
    "Daily News - Thursday, 18 August 1977"
   ]
  },
  {
   "cell_type": "code",
   "execution_count": 1,
   "id": "d43a006d-ca99-4360-8348-69dbffcc6639",
   "metadata": {},
   "outputs": [
    {
     "name": "stdout",
     "output_type": "stream",
     "text": [
      "2002-10-02 00:00:00\n",
      "2013-10-11 00:00:00\n",
      "1977-08-18 00:00:00\n"
     ]
    }
   ],
   "source": [
    "from datetime import datetime\n",
    "\n",
    "the_moscow_times = 'Wednesday, October 2, 2002'\n",
    "the_guardian = 'Friday, 11.10.13'\n",
    "daily_news = 'Thursday, 18 August 1977'\n",
    "\n",
    "date_the_moscow_times = datetime.strptime(the_moscow_times, '%A, %B %d, %Y')\n",
    "date_the_guardian = datetime.strptime(the_guardian, '%A, %d.%m.%y')\n",
    "date_daily_news = datetime.strptime(daily_news, '%A, %d %B %Y')\n",
    "\n",
    "print(f'{date_the_moscow_times}\\n{date_the_guardian}\\n{date_daily_news}')"
   ]
  },
  {
   "cell_type": "markdown",
   "id": "ce811e30-081a-4514-9172-e7d1e95372fa",
   "metadata": {},
   "source": [
    "<b><h1>Задание 2</h1></b>\n",
    "\n",
    "Напишите функцию date_range, которая возвращает список дат за период от start_date\n",
    "до end_date. Даты должны вводиться в формате YYYY-MM-DD. В случае неверного\n",
    "формата или при start_date > end_date должен возвращаться пустой список."
   ]
  },
  {
   "cell_type": "code",
   "execution_count": 7,
   "id": "497d00a7-67c4-4bb2-a0ff-80a1b7ae59a8",
   "metadata": {},
   "outputs": [
    {
     "data": {
      "text/plain": [
       "['2001-01-01',\n",
       " '2001-01-02',\n",
       " '2001-01-03',\n",
       " '2001-01-04',\n",
       " '2001-01-05',\n",
       " '2001-01-06',\n",
       " '2001-01-07',\n",
       " '2001-01-08',\n",
       " '2001-01-09',\n",
       " '2001-01-10',\n",
       " '2001-01-11',\n",
       " '2001-01-12',\n",
       " '2001-01-13',\n",
       " '2001-01-14',\n",
       " '2001-01-15',\n",
       " '2001-01-16',\n",
       " '2001-01-17',\n",
       " '2001-01-18',\n",
       " '2001-01-19',\n",
       " '2001-01-20']"
      ]
     },
     "execution_count": 7,
     "metadata": {},
     "output_type": "execute_result"
    }
   ],
   "source": [
    "from datetime import datetime, timedelta\n",
    "\n",
    "def date_range (start_date, end_date):\n",
    "    result = []\n",
    "    try:\n",
    "        date_start_date = datetime.strptime(start_date, '%Y-%m-%d')\n",
    "        date_end_date = datetime.strptime(end_date, '%Y-%m-%d')\n",
    "    except:\n",
    "        return result\n",
    "    \n",
    "    while date_start_date <= date_end_date:\n",
    "        result.append(date_start_date.strftime('%Y-%m-%d'))\n",
    "        date_start_date += timedelta(days=1)\n",
    "    \n",
    "    return result\n",
    "\n",
    "date_range('2001-01-1', '2001-01-20')\n"
   ]
  }
 ],
 "metadata": {
  "kernelspec": {
   "display_name": "Python 3",
   "language": "python",
   "name": "python3"
  },
  "language_info": {
   "codemirror_mode": {
    "name": "ipython",
    "version": 3
   },
   "file_extension": ".py",
   "mimetype": "text/x-python",
   "name": "python",
   "nbconvert_exporter": "python",
   "pygments_lexer": "ipython3",
   "version": "3.9.6"
  }
 },
 "nbformat": 4,
 "nbformat_minor": 5
}
