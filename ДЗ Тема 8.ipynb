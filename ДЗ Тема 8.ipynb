{
 "cells": [
  {
   "cell_type": "markdown",
   "id": "1bd61452-a374-431b-be7f-4b91195e5e67",
   "metadata": {},
   "source": [
    "<b><h1>Задание 1</h1></b>"
   ]
  },
  {
   "cell_type": "code",
   "execution_count": 15,
   "id": "d43a006d-ca99-4360-8348-69dbffcc6639",
   "metadata": {},
   "outputs": [
    {
     "name": "stdout",
     "output_type": "stream",
     "text": [
      "Post 1\n",
      "sunt aut facere repellat provident occaecati excepturi optio reprehenderit\n",
      "\n",
      "quia et suscipit\n",
      "suscipit recusandae consequuntur expedita et cum\n",
      "reprehenderit molestiae ut ut quas totam\n",
      "nostrum rerum est autem sunt rem eveniet architecto\n",
      "\n",
      "Post 2\n",
      "qui est esse\n",
      "\n",
      "est rerum tempore vitae\n",
      "sequi sint nihil reprehenderit dolor beatae ea dolores neque\n",
      "fugiat blanditiis voluptate porro vel nihil molestiae ut reiciendis\n",
      "qui aperiam non debitis possimus qui neque nisi nulla\n",
      "\n",
      "Post 3\n",
      "ea molestias quasi exercitationem repellat qui ipsa sit aut\n",
      "\n",
      "et iusto sed quo iure\n",
      "voluptatem occaecati omnis eligendi aut ad\n",
      "voluptatem doloribus vel accusantium quis pariatur\n",
      "molestiae porro eius odio et labore et velit aut\n",
      "\n",
      "Post 4\n",
      "eum et est occaecati\n",
      "\n",
      "ullam et saepe reiciendis voluptatem adipisci\n",
      "sit amet autem assumenda provident rerum culpa\n",
      "quis hic commodi nesciunt rem tenetur doloremque ipsam iure\n",
      "quis sunt voluptatem rerum illo velit\n",
      "\n",
      "Post 5\n",
      "nesciunt quas odio\n",
      "\n",
      "repudiandae veniam quaerat sunt sed\n",
      "alias aut fugiat sit autem sed est\n",
      "voluptatem omnis possimus esse voluptatibus quis\n",
      "est aut tenetur dolor neque\n",
      "\n"
     ]
    }
   ],
   "source": [
    "import requests\n",
    "\n",
    "def get_post(post_number):\n",
    "    url = f'https://jsonplaceholder.typicode.com/posts/{post_number}'\n",
    "    response = requests.get(url)\n",
    "\n",
    "    if response.status_code == 200:\n",
    "        data = response.json()\n",
    "        print(f\"Post {post_number}\")\n",
    "        print(data['title'])\n",
    "        print()      \n",
    "        print(data['body'])\n",
    "        print()\n",
    "    else:\n",
    "        print(f'Ошибка: {response.status_code} для поста {post_number}')\n",
    "\n",
    "for number in range(1, 6):\n",
    "    get_post(number)\n"
   ]
  },
  {
   "cell_type": "markdown",
   "id": "ce811e30-081a-4514-9172-e7d1e95372fa",
   "metadata": {},
   "source": [
    "<b><h1>Задание 2</h1></b>"
   ]
  },
  {
   "cell_type": "code",
   "execution_count": 7,
   "id": "497d00a7-67c4-4bb2-a0ff-80a1b7ae59a8",
   "metadata": {},
   "outputs": [
    {
     "name": "stdout",
     "output_type": "stream",
     "text": [
      "Текущая температура: -3.06°C\n",
      "Описание погоды: пасмурно\n"
     ]
    }
   ],
   "source": [
    "import requests\n",
    "\n",
    "API_KEY = \"8f29a6228878aa437cb1acad545cd601\"\n",
    "\n",
    "def get_weather(city):\n",
    "    url = f\"https://api.openweathermap.org/data/2.5/weather?q={city}&appid={API_KEY}&units=metric&lang=ru\"\n",
    "    response = requests.get(url)\n",
    "    \n",
    "    if response.status_code == 200:\n",
    "        data = response.json()\n",
    "        current_temp = data['main']['temp']\n",
    "        current_weather = data['weather'][0]['description']\n",
    "        print(f\"Текущая температура: {current_temp}°C\")\n",
    "        print(f\"Описание погоды: {current_weather}\")\n",
    "    else:\n",
    "        print(f\"Ошибка: {response.status_code}\")\n",
    "\n",
    "city = input(\"Введите название города: \")\n",
    "\n",
    "get_weather(city)"
   ]
  }
 ],
 "metadata": {
  "kernelspec": {
   "display_name": "Python 3",
   "language": "python",
   "name": "python3"
  },
  "language_info": {
   "codemirror_mode": {
    "name": "ipython",
    "version": 3
   },
   "file_extension": ".py",
   "mimetype": "text/x-python",
   "name": "python",
   "nbconvert_exporter": "python",
   "pygments_lexer": "ipython3",
   "version": "3.9.6"
  }
 },
 "nbformat": 4,
 "nbformat_minor": 5
}
