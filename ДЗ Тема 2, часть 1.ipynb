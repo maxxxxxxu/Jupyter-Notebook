{
 "cells": [
  {
   "cell_type": "markdown",
   "id": "1bd61452-a374-431b-be7f-4b91195e5e67",
   "metadata": {},
   "source": [
    "<b><h1>Задание 1</h1></b>"
   ]
  },
  {
   "cell_type": "code",
   "execution_count": 4,
   "id": "d43a006d-ca99-4360-8348-69dbffcc6639",
   "metadata": {},
   "outputs": [
    {
     "name": "stdout",
     "output_type": "stream",
     "text": [
      "es\n",
      "t\n"
     ]
    }
   ],
   "source": [
    "words = 'test', 'testing'\n",
    "\n",
    "for word in words:\n",
    "    if len(word) % 2 == 0:\n",
    "        index = int(len(word)/2)\n",
    "        print(word[(index-1):(index+1)])\n",
    "    else:\n",
    "        index = int((len(word)+1)/2)\n",
    "        print(word[index-1])\n"
   ]
  },
  {
   "cell_type": "markdown",
   "id": "ce811e30-081a-4514-9172-e7d1e95372fa",
   "metadata": {},
   "source": [
    "<b><h1>Задание 2</h1></b>"
   ]
  },
  {
   "cell_type": "code",
   "execution_count": 7,
   "id": "497d00a7-67c4-4bb2-a0ff-80a1b7ae59a8",
   "metadata": {},
   "outputs": [
    {
     "name": "stdout",
     "output_type": "stream",
     "text": [
      "Внимание, кто-то может остаться без пары!\n"
     ]
    }
   ],
   "source": [
    "#boys = ['Peter', 'Alex', 'John', 'Arthur', 'Richard']\n",
    "#girls = ['Kate', 'Liza', 'Kira', 'Emma', 'Trisha']\n",
    "\n",
    "boys = ['Peter', 'Alex', 'John', 'Arthur', 'Richard', 'Michael']\n",
    "girls = ['Kate', 'Liza', 'Kira', 'Emma', 'Trisha']\n",
    "\n",
    "boys = sorted(boys)\n",
    "girls = sorted(girls)\n",
    "\n",
    "if len(boys) == len(girls): \n",
    "    combined_list = list(zip(boys, girls))\n",
    "    print('Идеальные пары:')\n",
    "    for boy, girl in combined_list:\n",
    "        print(f'{boy} и {girl}')\n",
    "else:\n",
    "    print('Внимание, кто-то может остаться без пары!')"
   ]
  }
 ],
 "metadata": {
  "kernelspec": {
   "display_name": "Python 3 (ipykernel)",
   "language": "python",
   "name": "python3"
  },
  "language_info": {
   "codemirror_mode": {
    "name": "ipython",
    "version": 3
   },
   "file_extension": ".py",
   "mimetype": "text/x-python",
   "name": "python",
   "nbconvert_exporter": "python",
   "pygments_lexer": "ipython3",
   "version": "3.12.7"
  }
 },
 "nbformat": 4,
 "nbformat_minor": 5
}
