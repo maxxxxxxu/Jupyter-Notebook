{
 "cells": [
  {
   "cell_type": "markdown",
   "id": "1bd61452-a374-431b-be7f-4b91195e5e67",
   "metadata": {},
   "source": [
    "<b><h1>Задание 1</h1></b>\n",
    "\n",
    "Функция sum_distance(from, to) суммирует все числа от\n",
    "значения from до величины to включительно"
   ]
  },
  {
   "cell_type": "code",
   "execution_count": null,
   "id": "d43a006d-ca99-4360-8348-69dbffcc6639",
   "metadata": {},
   "outputs": [
    {
     "data": {
      "text/plain": [
       "0"
      ]
     },
     "execution_count": 4,
     "metadata": {},
     "output_type": "execute_result"
    }
   ],
   "source": [
    "def sum_distance(from_number, to_number):\n",
    "    \n",
    "    if from_number > to_number:\n",
    "        from_number, to_number = to_number, from_number\n",
    "    \n",
    "    result = from_number\n",
    "\n",
    "    while from_number < to_number:\n",
    "        from_number += 1\n",
    "        result += from_number\n",
    "\n",
    "    return result\n",
    "\n",
    "sum_distance(1, 5)"
   ]
  },
  {
   "cell_type": "markdown",
   "id": "ce811e30-081a-4514-9172-e7d1e95372fa",
   "metadata": {},
   "source": [
    "<b><h1>Задание 2</h1></b>\n",
    "\n",
    "Функция trim_and_repeat() принимает три параметра (строку,\n",
    "offset, repetitions) и возвращает полученную строку"
   ]
  },
  {
   "cell_type": "code",
   "execution_count": 5,
   "id": "497d00a7-67c4-4bb2-a0ff-80a1b7ae59a8",
   "metadata": {},
   "outputs": [
    {
     "data": {
      "text/plain": [
       "'EverestEverestEverest'"
      ]
     },
     "execution_count": 5,
     "metadata": {},
     "output_type": "execute_result"
    }
   ],
   "source": [
    "def trim_and_repeat(string, offset=0, repetitions=1):\n",
    "    return string[offset::] * repetitions\n",
    "    \n",
    "trim_and_repeat('Everest', 0, 3)"
   ]
  }
 ],
 "metadata": {
  "kernelspec": {
   "display_name": "Python 3",
   "language": "python",
   "name": "python3"
  },
  "language_info": {
   "codemirror_mode": {
    "name": "ipython",
    "version": 3
   },
   "file_extension": ".py",
   "mimetype": "text/x-python",
   "name": "python",
   "nbconvert_exporter": "python",
   "pygments_lexer": "ipython3",
   "version": "3.9.6"
  }
 },
 "nbformat": 4,
 "nbformat_minor": 5
}
